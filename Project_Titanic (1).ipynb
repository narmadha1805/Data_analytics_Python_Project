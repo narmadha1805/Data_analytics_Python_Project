{
  "nbformat": 4,
  "nbformat_minor": 0,
  "metadata": {
    "kernelspec": {
      "display_name": "Python 3",
      "language": "python",
      "name": "python3"
    },
    "language_info": {
      "codemirror_mode": {
        "name": "ipython",
        "version": 3
      },
      "file_extension": ".py",
      "mimetype": "text/x-python",
      "name": "python",
      "nbconvert_exporter": "python",
      "pygments_lexer": "ipython3",
      "version": "3.8.3"
    },
    "colab": {
      "name": "Project_Titanic.ipynb",
      "provenance": []
    }
  },
  "cells": [
    {
      "cell_type": "markdown",
      "metadata": {
        "id": "yMGKIt0E5ySI"
      },
      "source": [
        "# Project_titanic"
      ]
    },
    {
      "cell_type": "code",
      "metadata": {
        "id": "QUQ3Zi0u5ySO"
      },
      "source": [
        "import numpy as np\n",
        "import pandas as pd\n",
        "import matplotlib.pyplot as plt\n",
        "import seaborn as sb\n",
        "\n",
        "%matplotlib inline"
      ],
      "execution_count": 1,
      "outputs": []
    },
    {
      "cell_type": "markdown",
      "metadata": {
        "id": "JB2FS44B5ySR"
      },
      "source": [
        "## Data Operations Task"
      ]
    },
    {
      "cell_type": "markdown",
      "metadata": {
        "id": "PV6yP5mo5yST"
      },
      "source": [
        "#### Q. Import the Titianic Dataset and Display the Head of the Dataset"
      ]
    },
    {
      "cell_type": "code",
      "metadata": {
        "id": "Fwt-ikKw7TcR"
      },
      "source": [
        ""
      ],
      "execution_count": 18,
      "outputs": []
    },
    {
      "cell_type": "code",
      "metadata": {
        "colab": {
          "base_uri": "https://localhost:8080/",
          "height": 224
        },
        "id": "vdgOaiY97Qh-",
        "outputId": "cf1e006a-6962-42f5-aea5-7d54899eaecf"
      },
      "source": [
        "titanic =pd.read_csv(\"https://raw.githubusercontent.com/thecodescholar/DA_Python_Jun_21/main/Dataset/titanicDataset.csv\")\n",
        "print(titanic.shape)\n",
        "titanic.head()"
      ],
      "execution_count": 30,
      "outputs": [
        {
          "output_type": "stream",
          "text": [
            "(714, 7)\n"
          ],
          "name": "stdout"
        },
        {
          "output_type": "execute_result",
          "data": {
            "text/html": [
              "<div>\n",
              "<style scoped>\n",
              "    .dataframe tbody tr th:only-of-type {\n",
              "        vertical-align: middle;\n",
              "    }\n",
              "\n",
              "    .dataframe tbody tr th {\n",
              "        vertical-align: top;\n",
              "    }\n",
              "\n",
              "    .dataframe thead th {\n",
              "        text-align: right;\n",
              "    }\n",
              "</style>\n",
              "<table border=\"1\" class=\"dataframe\">\n",
              "  <thead>\n",
              "    <tr style=\"text-align: right;\">\n",
              "      <th></th>\n",
              "      <th>PassengerId</th>\n",
              "      <th>Survived</th>\n",
              "      <th>Pclass</th>\n",
              "      <th>Sex</th>\n",
              "      <th>Age</th>\n",
              "      <th>Fare</th>\n",
              "      <th>Embarked</th>\n",
              "    </tr>\n",
              "  </thead>\n",
              "  <tbody>\n",
              "    <tr>\n",
              "      <th>0</th>\n",
              "      <td>1</td>\n",
              "      <td>0</td>\n",
              "      <td>3</td>\n",
              "      <td>male</td>\n",
              "      <td>22.0</td>\n",
              "      <td>7.2500</td>\n",
              "      <td>S</td>\n",
              "    </tr>\n",
              "    <tr>\n",
              "      <th>1</th>\n",
              "      <td>2</td>\n",
              "      <td>1</td>\n",
              "      <td>1</td>\n",
              "      <td>female</td>\n",
              "      <td>38.0</td>\n",
              "      <td>71.2833</td>\n",
              "      <td>C</td>\n",
              "    </tr>\n",
              "    <tr>\n",
              "      <th>2</th>\n",
              "      <td>3</td>\n",
              "      <td>1</td>\n",
              "      <td>3</td>\n",
              "      <td>female</td>\n",
              "      <td>26.0</td>\n",
              "      <td>7.9250</td>\n",
              "      <td>S</td>\n",
              "    </tr>\n",
              "    <tr>\n",
              "      <th>3</th>\n",
              "      <td>4</td>\n",
              "      <td>1</td>\n",
              "      <td>1</td>\n",
              "      <td>female</td>\n",
              "      <td>35.0</td>\n",
              "      <td>53.1000</td>\n",
              "      <td>S</td>\n",
              "    </tr>\n",
              "    <tr>\n",
              "      <th>4</th>\n",
              "      <td>5</td>\n",
              "      <td>0</td>\n",
              "      <td>3</td>\n",
              "      <td>male</td>\n",
              "      <td>35.0</td>\n",
              "      <td>8.0500</td>\n",
              "      <td>S</td>\n",
              "    </tr>\n",
              "  </tbody>\n",
              "</table>\n",
              "</div>"
            ],
            "text/plain": [
              "   PassengerId  Survived  Pclass     Sex   Age     Fare Embarked\n",
              "0            1         0       3    male  22.0   7.2500        S\n",
              "1            2         1       1  female  38.0  71.2833        C\n",
              "2            3         1       3  female  26.0   7.9250        S\n",
              "3            4         1       1  female  35.0  53.1000        S\n",
              "4            5         0       3    male  35.0   8.0500        S"
            ]
          },
          "metadata": {
            "tags": []
          },
          "execution_count": 30
        }
      ]
    },
    {
      "cell_type": "code",
      "metadata": {
        "id": "z83M_yQw5ySU"
      },
      "source": [
        ""
      ],
      "execution_count": null,
      "outputs": []
    },
    {
      "cell_type": "markdown",
      "metadata": {
        "id": "KmvITxi75ySY"
      },
      "source": [
        "#### Q. Show the Statistics of dataframe"
      ]
    },
    {
      "cell_type": "code",
      "metadata": {
        "colab": {
          "base_uri": "https://localhost:8080/"
        },
        "id": "U_0lqrquJX9y",
        "outputId": "509ff300-708e-492c-9aa8-437ba7b9eaa5"
      },
      "source": [
        "mean =df['Age'].mean()\n",
        "print(mean)\n"
      ],
      "execution_count": 87,
      "outputs": [
        {
          "output_type": "stream",
          "text": [
            "29.69911764705882\n"
          ],
          "name": "stdout"
        }
      ]
    },
    {
      "cell_type": "code",
      "metadata": {
        "id": "DCYSfKLT5ySZ"
      },
      "source": [
        ""
      ],
      "execution_count": 87,
      "outputs": []
    },
    {
      "cell_type": "markdown",
      "metadata": {
        "id": "W841sqAN5ySb"
      },
      "source": [
        "#### Q. Display last 3 columns"
      ]
    },
    {
      "cell_type": "code",
      "metadata": {
        "id": "A8RU34BDcJAN"
      },
      "source": [
        ""
      ],
      "execution_count": null,
      "outputs": []
    },
    {
      "cell_type": "code",
      "metadata": {
        "colab": {
          "base_uri": "https://localhost:8080/"
        },
        "id": "ll3pg0gKLy97",
        "outputId": "b649bc5b-8c65-461c-bcc8-2ef1da3dbdc6"
      },
      "source": [
        "N =3\n",
        "last_n_column =df.iloc[:,-N:]\n",
        "print (\"last column of dataframe:\")\n",
        "print(last_n_column)"
      ],
      "execution_count": 48,
      "outputs": [
        {
          "output_type": "stream",
          "text": [
            "last column of dataframe:\n",
            "      Age     Fare Embarked\n",
            "0    22.0   7.2500        S\n",
            "1    38.0  71.2833        C\n",
            "2    26.0   7.9250        S\n",
            "3    35.0  53.1000        S\n",
            "4    35.0   8.0500        S\n",
            "..    ...      ...      ...\n",
            "709  39.0  29.1250        Q\n",
            "710  27.0  13.0000        S\n",
            "711  19.0  30.0000        S\n",
            "712  26.0  30.0000        C\n",
            "713  32.0   7.7500        Q\n",
            "\n",
            "[714 rows x 3 columns]\n"
          ],
          "name": "stdout"
        }
      ]
    },
    {
      "cell_type": "code",
      "metadata": {
        "id": "CYVbmCRy5ySd"
      },
      "source": [
        ""
      ],
      "execution_count": null,
      "outputs": []
    },
    {
      "cell_type": "markdown",
      "metadata": {
        "id": "Az-Qv_SA5ySe"
      },
      "source": [
        "#### Q. Show Unique values in Embarked"
      ]
    },
    {
      "cell_type": "code",
      "metadata": {
        "id": "k15Y7oceO0Go"
      },
      "source": [
        ""
      ],
      "execution_count": null,
      "outputs": []
    },
    {
      "cell_type": "code",
      "metadata": {
        "colab": {
          "base_uri": "https://localhost:8080/"
        },
        "id": "GdnQVpOV5ySf",
        "outputId": "f5ff6352-9b3d-4332-e85d-8993806d286b"
      },
      "source": [
        "titanic[\"Embarked\"].nunique()"
      ],
      "execution_count": 56,
      "outputs": [
        {
          "output_type": "execute_result",
          "data": {
            "text/plain": [
              "3"
            ]
          },
          "metadata": {
            "tags": []
          },
          "execution_count": 56
        }
      ]
    },
    {
      "cell_type": "markdown",
      "metadata": {
        "id": "gUVubrfi5ySg"
      },
      "source": [
        "## Visualization Task"
      ]
    },
    {
      "cell_type": "markdown",
      "metadata": {
        "id": "gi6ObQry5ySh"
      },
      "source": [
        "#### Q. Draw histogram for Age, using Matplotlib"
      ]
    },
    {
      "cell_type": "code",
      "metadata": {
        "colab": {
          "base_uri": "https://localhost:8080/",
          "height": 319
        },
        "id": "mcs-bNSkTY1C",
        "outputId": "641ab003-eabb-4850-ec6a-c6b0274eb375"
      },
      "source": [
        "plt.hist(data =df,x=\"speed\",bins=10)"
      ],
      "execution_count": 60,
      "outputs": [
        {
          "output_type": "execute_result",
          "data": {
            "text/plain": [
              "(array([0., 0., 0., 0., 0., 1., 0., 0., 0., 0.]),\n",
              " array([-0.5, -0.4, -0.3, -0.2, -0.1,  0. ,  0.1,  0.2,  0.3,  0.4,  0.5]),\n",
              " <a list of 10 Patch objects>)"
            ]
          },
          "metadata": {
            "tags": []
          },
          "execution_count": 60
        },
        {
          "output_type": "display_data",
          "data": {
            "image/png": "[encoded data removed]",
            "text/plain": [
              "<Figure size 432x288 with 1 Axes>"
            ]
          },
          "metadata": {
            "tags": [],
            "needs_background": "light"
          }
        }
      ]
    },
    {
      "cell_type": "code",
      "metadata": {
        "id": "A7D-6l2Y5ySi"
      },
      "source": [
        ""
      ],
      "execution_count": 60,
      "outputs": []
    },
    {
      "cell_type": "code",
      "metadata": {
        "id": "-VZiU_9YeBeB"
      },
      "source": [
        ""
      ],
      "execution_count": null,
      "outputs": []
    },
    {
      "cell_type": "markdown",
      "metadata": {
        "id": "ZpR8y1bz5ySj"
      },
      "source": [
        "#### Q. Draw countplot for Sex, using Seaborn"
      ]
    },
    {
      "cell_type": "code",
      "metadata": {
        "id": "WNx8MmctdIcv"
      },
      "source": [
        ""
      ],
      "execution_count": null,
      "outputs": []
    },
    {
      "cell_type": "code",
      "metadata": {
        "colab": {
          "base_uri": "https://localhost:8080/",
          "height": 281
        },
        "id": "xiN1kR5cdBiR",
        "outputId": "fb36d74e-659b-4e0d-d1c9-35a44d3e9df2"
      },
      "source": [
        "titanic =sb.load_dataset('titanic')\n",
        "sb.countplot(x ='sex',data=titanic,color=\"green\",saturation =100)\n",
        "plt.show()"
      ],
      "execution_count": 98,
      "outputs": [
        {
          "output_type": "display_data",
          "data": {
            "image/png": "[encoded data removed]",
            "text/plain": [
              "<Figure size 432x288 with 1 Axes>"
            ]
          },
          "metadata": {
            "tags": [],
            "needs_background": "light"
          }
        }
      ]
    },
    {
      "cell_type": "code",
      "metadata": {
        "id": "xARRyosj5ySk"
      },
      "source": [
        ""
      ],
      "execution_count": 87,
      "outputs": []
    },
    {
      "cell_type": "markdown",
      "metadata": {
        "id": "CouMut0Q5ySk"
      },
      "source": [
        "#### Q. Make a Pie Chart of Corona Cases by taking numbers list as [500000, 1800000, 1200000] and labels list as [\"Deaths\", \"Total Cases\", \"Cured\"]"
      ]
    },
    {
      "cell_type": "code",
      "metadata": {
        "colab": {
          "base_uri": "https://localhost:8080/",
          "height": 321
        },
        "id": "os4yHvCPVNft",
        "outputId": "048b1d5d-1be9-468a-a8e6-48b74b043dc7"
      },
      "source": [
        "counts_=[500000,1800000,1200000]\n",
        "list_ =[\"Deaths\",\"totalcases\",\"cured\"]\n",
        "plt.pie(counts_,labels=list_)\n",
        "plt.axis('square')"
      ],
      "execution_count": 71,
      "outputs": [
        {
          "output_type": "execute_result",
          "data": {
            "text/plain": [
              "(-1.108454437082485,\n",
              " 1.1093431135328204,\n",
              " -1.1079044774152549,\n",
              " 1.1098930732000505)"
            ]
          },
          "metadata": {
            "tags": []
          },
          "execution_count": 71
        },
        {
          "output_type": "display_data",
          "data": {
            "image/png": "[encoded data removed]",
            "text/plain": [
              "<Figure size 432x288 with 1 Axes>"
            ]
          },
          "metadata": {
            "tags": []
          }
        }
      ]
    },
    {
      "cell_type": "code",
      "metadata": {
        "id": "ipduXBZV5ySl"
      },
      "source": [
        ""
      ],
      "execution_count": null,
      "outputs": []
    },
    {
      "cell_type": "markdown",
      "metadata": {
        "id": "YdoaMiod5ySm"
      },
      "source": [
        "### Great Job\n",
        "\n",
        "## All the Best\n",
        "\n",
        "# THE CODE SCHOLAR"
      ]
    }
  ]
}